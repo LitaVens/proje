{
 "cells": [
  {
   "cell_type": "code",
   "execution_count": 1,
   "id": "3b477d51-834b-44b3-bed8-9d33e7279d81",
   "metadata": {},
   "outputs": [
    {
     "name": "stdout",
     "output_type": "stream",
     "text": [
      "🔒 Mini Şifre Üretici ve Yönetici'ye Hoş Geldiniz!\n",
      "\n",
      "Seçenekler:\n",
      "1. Yeni bir şifre oluştur\n",
      "2. Var olan şifreleri listele\n",
      "3. Bir şifreyi sil\n",
      "4. Çıkış yap\n"
     ]
    },
    {
     "name": "stdin",
     "output_type": "stream",
     "text": [
      "Bir seçenek seçin (1-4):  1\n",
      "Hangi hesap için şifre oluşturmak istiyorsunuz?  ildem\n",
      "Şifre uzunluğunu girin (varsayılan: 12):  9\n"
     ]
    },
    {
     "ename": "NameError",
     "evalue": "name 'sifre_uret' is not defined",
     "output_type": "error",
     "traceback": [
      "\u001b[1;31m---------------------------------------------------------------------------\u001b[0m",
      "\u001b[1;31mNameError\u001b[0m                                 Traceback (most recent call last)",
      "Cell \u001b[1;32mIn[1], line 56\u001b[0m\n\u001b[0;32m     52\u001b[0m             \u001b[38;5;28mprint\u001b[39m(\u001b[38;5;124m\"\u001b[39m\u001b[38;5;124mGeçersiz bir seçenek seçtiniz. Lütfen tekrar deneyin.\u001b[39m\u001b[38;5;124m\"\u001b[39m)\n\u001b[0;32m     55\u001b[0m \u001b[38;5;28;01mif\u001b[39;00m \u001b[38;5;18m__name__\u001b[39m \u001b[38;5;241m==\u001b[39m \u001b[38;5;124m\"\u001b[39m\u001b[38;5;124m__main__\u001b[39m\u001b[38;5;124m\"\u001b[39m:\n\u001b[1;32m---> 56\u001b[0m     sifre_yonetici()\n",
      "Cell \u001b[1;32mIn[1], line 27\u001b[0m, in \u001b[0;36msifre_yonetici\u001b[1;34m()\u001b[0m\n\u001b[0;32m     24\u001b[0m     \u001b[38;5;28;01mexcept\u001b[39;00m \u001b[38;5;167;01mValueError\u001b[39;00m:\n\u001b[0;32m     25\u001b[0m         \u001b[38;5;28mprint\u001b[39m(\u001b[38;5;124m\"\u001b[39m\u001b[38;5;124mLütfen geçerli bir sayı girin.\u001b[39m\u001b[38;5;124m\"\u001b[39m)\n\u001b[1;32m---> 27\u001b[0m yeni_sifre \u001b[38;5;241m=\u001b[39m sifre_uret(uzunluk)\n\u001b[0;32m     28\u001b[0m sifreler[hesap_adi] \u001b[38;5;241m=\u001b[39m yeni_sifre\n\u001b[0;32m     29\u001b[0m \u001b[38;5;28mprint\u001b[39m(\u001b[38;5;124mf\u001b[39m\u001b[38;5;124m\"\u001b[39m\u001b[38;5;132;01m{\u001b[39;00mhesap_adi\u001b[38;5;132;01m}\u001b[39;00m\u001b[38;5;124m için şifre oluşturuldu: \u001b[39m\u001b[38;5;132;01m{\u001b[39;00myeni_sifre\u001b[38;5;132;01m}\u001b[39;00m\u001b[38;5;124m\"\u001b[39m)\n",
      "\u001b[1;31mNameError\u001b[0m: name 'sifre_uret' is not defined"
     ]
    }
   ],
   "source": [
    "def sifre_yonetici():\n",
    "    print(\"🔒 Mini Şifre Üretici ve Yönetici'ye Hoş Geldiniz!\")\n",
    "    \n",
    "    while True:\n",
    "        print(\"\\nSeçenekler:\")\n",
    "        print(\"1. Yeni bir şifre oluştur\")\n",
    "        print(\"2. Var olan şifreleri listele\")\n",
    "        print(\"3. Bir şifreyi sil\")\n",
    "        print(\"4. Çıkış yap\")\n",
    "        \n",
    "        secim = input(\"Bir seçenek seçin (1-4): \")\n",
    "        \n",
    "        if secim == \"1\":\n",
    "            hesap_adi = input(\"Hangi hesap için şifre oluşturmak istiyorsunuz? \")\n",
    "            \n",
    "            while True:\n",
    "                try:\n",
    "                    uzunluk = input(\"Şifre uzunluğunu girin (varsayılan: 12): \") or \"12\"\n",
    "                    uzunluk = int(uzunluk) \n",
    "                    if uzunluk < 4: \n",
    "                        print(\"Şifre uzunluğu çok kısa. En az 4 karakter olmalıdır.\")\n",
    "                    else:\n",
    "                        break  \n",
    "                except ValueError:\n",
    "                    print(\"Lütfen geçerli bir sayı girin.\")\n",
    "                    \n",
    "            yeni_sifre = sifre_uret(uzunluk)\n",
    "            sifreler[hesap_adi] = yeni_sifre\n",
    "            print(f\"{hesap_adi} için şifre oluşturuldu: {yeni_sifre}\")\n",
    "        \n",
    "        elif secim == \"2\":\n",
    "            if not sifreler:\n",
    "                print(\"Henüz kaydedilmiş bir şifre yok.\")\n",
    "            else:\n",
    "                print(\"\\nKaydedilmiş Şifreler:\")\n",
    "                for hesap, sifre in sifreler.items():\n",
    "                    print(f\"- {hesap}: {sifre}\")\n",
    "        \n",
    "        elif secim == \"3\":\n",
    "            silinecek_hesap = input(\"Silmek istediğiniz hesabın adını girin: \")\n",
    "            if silinecek_hesap in sifreler:\n",
    "                del sifreler[silinecek_hesap]\n",
    "                print(f\"{silinecek_hesap} şifresi silindi.\")\n",
    "            else:\n",
    "                print(\"Bu adla bir hesap bulunamadı.\")\n",
    "        \n",
    "        elif secim == \"4\":\n",
    "            print(\"Programdan çıkılıyor. Güle güle! 👋\")\n",
    "            break\n",
    "        \n",
    "        else:\n",
    "            print(\"Geçersiz bir seçenek seçtiniz. Lütfen tekrar deneyin.\")\n",
    "\n",
    "\n",
    "if __name__ == \"__main__\":\n",
    "    sifre_yonetici()"
   ]
  },
  {
   "cell_type": "code",
   "execution_count": null,
   "id": "83c4f07b-23e9-4b97-ab1e-75d6009b8fcf",
   "metadata": {},
   "outputs": [],
   "source": []
  }
 ],
 "metadata": {
  "kernelspec": {
   "display_name": "Python 3 (ipykernel)",
   "language": "python",
   "name": "python3"
  },
  "language_info": {
   "codemirror_mode": {
    "name": "ipython",
    "version": 3
   },
   "file_extension": ".py",
   "mimetype": "text/x-python",
   "name": "python",
   "nbconvert_exporter": "python",
   "pygments_lexer": "ipython3",
   "version": "3.12.4"
  }
 },
 "nbformat": 4,
 "nbformat_minor": 5
}
