{
 "cells": [
  {
   "cell_type": "code",
   "execution_count": 1,
   "id": "1b526698-53b4-43b3-89e1-218d88b2a442",
   "metadata": {},
   "outputs": [
    {
     "name": "stdout",
     "output_type": "stream",
     "text": [
      "Adam Asmaca Oyununa naber diyin!\n",
      "9 harfli bir kelimeyi tahmin etmeye çalışacaksınız.\n",
      "\n",
      "Kelime:  _ _ _ _ _ _ _ _ _\n",
      "Kalan Tahmin Hakkı: 6\n",
      "Daha önce tahmin edilen harfler:  \n"
     ]
    },
    {
     "name": "stdin",
     "output_type": "stream",
     "text": [
      "Bir harf tahmin edin:  p\n"
     ]
    },
    {
     "name": "stdout",
     "output_type": "stream",
     "text": [
      "tüh ya.. 'p' kelimede yok.\n",
      "\n",
      "Kelime:  _ _ _ _ _ _ _ _ _\n",
      "Kalan Tahmin Hakkı: 5\n",
      "Daha önce tahmin edilen harfler:  p\n"
     ]
    },
    {
     "name": "stdin",
     "output_type": "stream",
     "text": [
      "Bir harf tahmin edin:  l\n"
     ]
    },
    {
     "name": "stdout",
     "output_type": "stream",
     "text": [
      "işte bu! 'l' kelimede mevcut.\n",
      "\n",
      "Kelime:  _ l _ _ _ _ _ _ _\n",
      "Kalan Tahmin Hakkı: 5\n",
      "Daha önce tahmin edilen harfler:  p, l\n"
     ]
    },
    {
     "name": "stdin",
     "output_type": "stream",
     "text": [
      "Bir harf tahmin edin:  a\n"
     ]
    },
    {
     "name": "stdout",
     "output_type": "stream",
     "text": [
      "işte bu! 'a' kelimede mevcut.\n",
      "\n",
      "Kelime:  a l _ _ _ _ _ _ a\n",
      "Kalan Tahmin Hakkı: 5\n",
      "Daha önce tahmin edilen harfler:  p, l, a\n"
     ]
    },
    {
     "name": "stdin",
     "output_type": "stream",
     "text": [
      "Bir harf tahmin edin:  g\n"
     ]
    },
    {
     "name": "stdout",
     "output_type": "stream",
     "text": [
      "işte bu! 'g' kelimede mevcut.\n",
      "\n",
      "Kelime:  a l g _ _ _ _ _ a\n",
      "Kalan Tahmin Hakkı: 5\n",
      "Daha önce tahmin edilen harfler:  p, l, a, g\n"
     ]
    },
    {
     "name": "stdin",
     "output_type": "stream",
     "text": [
      "Bir harf tahmin edin:  o\n"
     ]
    },
    {
     "name": "stdout",
     "output_type": "stream",
     "text": [
      "işte bu! 'o' kelimede mevcut.\n",
      "\n",
      "Kelime:  a l g o _ _ _ _ a\n",
      "Kalan Tahmin Hakkı: 5\n",
      "Daha önce tahmin edilen harfler:  p, l, a, g, o\n"
     ]
    },
    {
     "name": "stdin",
     "output_type": "stream",
     "text": [
      "Bir harf tahmin edin:  r\n"
     ]
    },
    {
     "name": "stdout",
     "output_type": "stream",
     "text": [
      "işte bu! 'r' kelimede mevcut.\n",
      "\n",
      "Kelime:  a l g o r _ _ _ a\n",
      "Kalan Tahmin Hakkı: 5\n",
      "Daha önce tahmin edilen harfler:  p, l, a, g, o, r\n"
     ]
    },
    {
     "name": "stdin",
     "output_type": "stream",
     "text": [
      "Bir harf tahmin edin:  t\n"
     ]
    },
    {
     "name": "stdout",
     "output_type": "stream",
     "text": [
      "işte bu! 't' kelimede mevcut.\n",
      "\n",
      "Kelime:  a l g o r _ t _ a\n",
      "Kalan Tahmin Hakkı: 5\n",
      "Daha önce tahmin edilen harfler:  p, l, a, g, o, r, t\n"
     ]
    },
    {
     "name": "stdin",
     "output_type": "stream",
     "text": [
      "Bir harf tahmin edin:  i\n"
     ]
    },
    {
     "name": "stdout",
     "output_type": "stream",
     "text": [
      "işte bu! 'i' kelimede mevcut.\n",
      "\n",
      "Kelime:  a l g o r i t _ a\n",
      "Kalan Tahmin Hakkı: 5\n",
      "Daha önce tahmin edilen harfler:  p, l, a, g, o, r, t, i\n"
     ]
    },
    {
     "name": "stdin",
     "output_type": "stream",
     "text": [
      "Bir harf tahmin edin:  m\n"
     ]
    },
    {
     "name": "stdout",
     "output_type": "stream",
     "text": [
      "işte bu! 'm' kelimede mevcut.\n",
      "\n",
      "yaşasınn!! kelimeyi doğru tahmin ettiniiz..kelimeee:  algoritma\n"
     ]
    }
   ],
   "source": [
    "import random\n",
    "\n",
    "kelime_listesi = [\"python\", \"yazılımcı\", \"github\", \"algoritma\", \"fonksiyon\", \"değişken\"]\n",
    "\n",
    "def rastgele_kelime_sec(kelime_listesi):\n",
    "    return random.choice(kelime_listesi)\n",
    "\n",
    "\n",
    "def adam_asmaca_oyna():\n",
    "    kelime = rastgele_kelime_sec(kelime_listesi)  \n",
    "    tahmin_edilen = \"_\" * len(kelime)  \n",
    "    tahmin_edilen_liste = list(tahmin_edilen)\n",
    "    kelime_harfleri = list(kelime)\n",
    "    kalan_hak = 6\n",
    "    tahmin_edilen_harfler = []\n",
    "\n",
    "    print(\"Adam Asmaca Oyununa naber diyin!\")\n",
    "    print(f\"{len(kelime)} harfli bir kelimeyi tahmin etmeye çalışacaksınız.\") \n",
    "    \n",
    "    while kalan_hak > 0 and \"_\" in tahmin_edilen_liste:\n",
    "        print(\"\\nKelime: \", \" \".join(tahmin_edilen_liste))\n",
    "        print(f\"Kalan Tahmin Hakkı: {kalan_hak}\")\n",
    "        print(\"Daha önce tahmin edilen harfler: \", \", \".join(tahmin_edilen_harfler))\n",
    "        \n",
    "        tahmin = input(\"Bir harf tahmin edin: \").lower()\n",
    "        \n",
    "        if len(tahmin) != 1 or not tahmin.isalpha():\n",
    "            print(\"lütfen sadece tek bir harf yazın\")\n",
    "            continue\n",
    "        \n",
    "        if tahmin in tahmin_edilen_harfler:\n",
    "            print(f\"'{tahmin}' bu harfi zaten yazdın....\")\n",
    "            continue\n",
    "        \n",
    "        tahmin_edilen_harfler.append(tahmin)\n",
    "        \n",
    "        if tahmin in kelime_harfleri:\n",
    "            print(f\"işte bu! '{tahmin}' kelimede mevcut.\")\n",
    "            for indeks, harf in enumerate(kelime_harfleri):\n",
    "                if harf == tahmin:\n",
    "                    tahmin_edilen_liste[indeks] = tahmin\n",
    "        else:\n",
    "            print(f\"tüh ya.. '{tahmin}' kelimede yok.\")\n",
    "            kalan_hak -= 1\n",
    "\n",
    "    # Oyun sonucunu göster\n",
    "    if \"_\" not in tahmin_edilen_liste:\n",
    "        print(\"\\nyaşasınn!! kelimeyi doğru tahmin ettiniiz..kelimeee: \", kelime)\n",
    "    else:\n",
    "        print(\"\\noh..bu kötü oldu hakkın bitti..\")\n",
    "        print(f\"Kelime: {kelime}\")\n",
    "\n",
    "# Oyun başlatma\n",
    "if __name__ == \"__main__\":\n",
    "    adam_asmaca_oyna()"
   ]
  },
  {
   "cell_type": "code",
   "execution_count": null,
   "id": "5192e8eb-a567-43da-bcdc-51960d4838bd",
   "metadata": {},
   "outputs": [],
   "source": []
  }
 ],
 "metadata": {
  "kernelspec": {
   "display_name": "Python 3 (ipykernel)",
   "language": "python",
   "name": "python3"
  },
  "language_info": {
   "codemirror_mode": {
    "name": "ipython",
    "version": 3
   },
   "file_extension": ".py",
   "mimetype": "text/x-python",
   "name": "python",
   "nbconvert_exporter": "python",
   "pygments_lexer": "ipython3",
   "version": "3.12.4"
  }
 },
 "nbformat": 4,
 "nbformat_minor": 5
}
